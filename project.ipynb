{
 "cells": [
  {
   "cell_type": "markdown",
   "metadata": {},
   "source": [
    "# Project: **Numerical Integration** in **quadpy**\n"
   ]
  },
  {
   "cell_type": "markdown",
   "metadata": {},
   "source": [
    "## About the Software\n",
    "\n",
    "quadpy repository: https://github.com/nschloe/quadpy <br>\n",
    "Developed by Nico Schlömer (nschloe)\n",
    "\n",
    "This package, created using python, aims to provide several way to integrate over various functions. Some methods are similar to those in scipy.integrate, but it has many more options. It allows integration over a line, circle, triangle, disk, quadrilateral, 2D space, sphere, ball, tetrahedron, and various other multi-dimensional shapes. \n"
   ]
  },
  {
   "cell_type": "markdown",
   "metadata": {},
   "source": [
    "![](intline.png)"
   ]
  },
  {
   "cell_type": "markdown",
   "metadata": {},
   "source": [
    "![](inttriangle.png)"
   ]
  },
  {
   "cell_type": "markdown",
   "metadata": {},
   "source": [
    "![](intquad.png)"
   ]
  },
  {
   "cell_type": "markdown",
   "metadata": {},
   "source": [
    "![](intsphere.png)"
   ]
  },
  {
   "cell_type": "markdown",
   "metadata": {},
   "source": [
    "\n",
    "For each shape, it has several integration schemes, such as Chebyshev-Gauss or Newton-Cotes, that allow the user to solve varied problems with the accuracy and efficiency that suits their needs.\n",
    "\n",
    "\n",
    "\n",
    "## About the Method and its Part in the Software\n",
    "\n",
    "Specifically for this project, I will go over the Chebyshev-Gauss funcition for integrating over a polynomial. The math behind this method, the Gaussian quadrature, basically says that the integral of f(x) is equal to the sum of f at x times a weight function, over an interval. The most common is over [-1, 1] which is acccurate for all polynomials of degree 2n-1 or less:\n",
    "![](https://wikimedia.org/api/rest_v1/media/math/render/svg/c24fcd80dc1e483ec6bd88564e53073147808e47)\n",
    "\n",
    "This method requires the input of the degree of the polynomial, determines the points and weights, and returns them. It is particularly usefull, as the information is stored in corresponding vectors for later use.\n",
    "It uses the weight function \n",
    "$w(x)=\\frac{1}{\\sqrt{1-x^2}}$.\n",
    "\n",
    "\n",
    "There are many similar methods implemeted in the package, such as Gauss-Legendre, and Gauss-Jacobi. They vary in what degrees and kinds of polynomials they can process, and how the weights are determined. The software also allows the user to make their own Gaussian quadrature method, allowing greater control over the weight function and points; https://github.com/nschloe/quadpy/wiki/Creating-your-own-Gauss-quadrature-in-two-simple-steps\n",
    "\n",
    "\n",
    "Below is an example call of the method."
   ]
  },
  {
   "cell_type": "code",
   "execution_count": 16,
   "metadata": {},
   "outputs": [
    {
     "data": {
      "image/png": "[encoded data removed]",
      "text/plain": [
       "<Figure size 432x288 with 1 Axes>"
      ]
     },
     "metadata": {
      "needs_background": "light"
     },
     "output_type": "display_data"
    }
   ],
   "source": [
    "!pip install quadpy\n",
    "import quadpy\n",
    "import numpy as np\n",
    "\n",
    "scheme = quadpy.line_segment.chebyshev_gauss_1(7, \"numpy\") #Determining what to integrate over (line, circle, etc.), what integration scheme to use (Chebyshev-Gauss), and the degree (7)\n",
    "scheme.show() #displays the Chebyshev-Gauss quadrature for int_{-1}^1 f(x) / sqrt(1+x^2) dx\n",
    "val = scheme.integrate(lambda x: np.exp(x), [0.0, 1.0])"
   ]
  },
  {
   "cell_type": "markdown",
   "metadata": {},
   "source": [
    "### Questions I have about the method\n",
    "\n",
    "* What does sympy vs numpy do in the Chebyshev-Gauss function?\n",
    "* Why does the integration appear as a line with circles on it? Why is that a more valid form of representation than a cartesian graph?\n",
    "\n",
    "\n",
    "### Open questions\n",
    "\n",
    "* What are some specific examples of numerical integration being used to solve real world problems? "
   ]
  }
 ],
 "metadata": {
  "kernelspec": {
   "display_name": "Python 3",
   "language": "python",
   "name": "python3"
  },
  "language_info": {
   "codemirror_mode": {
    "name": "ipython",
    "version": 3
   },
   "file_extension": ".py",
   "mimetype": "text/x-python",
   "name": "python",
   "nbconvert_exporter": "python",
   "pygments_lexer": "ipython3",
   "version": "3.7.3"
  }
 },
 "nbformat": 4,
 "nbformat_minor": 4
}
